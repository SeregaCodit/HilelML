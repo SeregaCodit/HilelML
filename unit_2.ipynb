{
 "cells": [
  {
   "cell_type": "code",
   "execution_count": 1,
   "metadata": {},
   "outputs": [
    {
     "name": "stdout",
     "output_type": "stream",
     "text": [
      "2.1.2\n"
     ]
    }
   ],
   "source": [
    "import numpy as np"
   ]
  },
  {
   "cell_type": "code",
   "execution_count": 126,
   "metadata": {},
   "outputs": [],
   "source": [
    "\n",
    "def to_2d(array:np.array, cols) -> np.array:\n",
    "    if not isinstance(cols, int):\n",
    "        raise ValueError(f\"Rows must be integer, got {type(cols)}\")\n",
    "    if array.size % cols == 0:\n",
    "        return  array.reshape(-1, cols)\n",
    "    raise ValueError(f\"The number of cols must be a multiple of {array.size}! Got {rows}.\")\n",
    "\n",
    "def get_arr() -> np.array:\n",
    "    # функція для оновлення масива, щоб не крутити мишкою по документу =)\n",
    "    return np.genfromtxt(fname=\"https://archive.ics.uci.edu/ml/machine-learning-databases/iris/iris.data\", dtype=np.float16, usecols=(0, 1, 2, 3), delimiter=\",\")"
   ]
  },
  {
   "cell_type": "markdown",
   "metadata": {},
   "source": [
    "Знайти в датасеті таргет та видалити цю колонку з датасету (видаляти за індексом)"
   ]
  },
  {
   "cell_type": "code",
   "execution_count": 127,
   "metadata": {},
   "outputs": [],
   "source": [
    "arr = get_arr()"
   ]
  },
  {
   "cell_type": "markdown",
   "metadata": {},
   "source": [
    "Перетворити колонки, що залишились в 2D масив (або впевнитись, що це уже 2D масив)"
   ]
  },
  {
   "cell_type": "code",
   "execution_count": 88,
   "metadata": {},
   "outputs": [
    {
     "name": "stdout",
     "output_type": "stream",
     "text": [
      "already 2D! (150, 4)\n"
     ]
    }
   ],
   "source": [
    "if arr.ndim != 2:\n",
    "    arr = to_2d(arr, cols=4)\n",
    "    msg = \"reshaped to 2D!\"\n",
    "else:\n",
    "    msg = \"already 2D!\"\n",
    "print(msg , arr.shape)\n"
   ]
  },
  {
   "cell_type": "markdown",
   "metadata": {},
   "source": [
    "Порахувати mean, median, standard deviation для 1-ї колонки"
   ]
  },
  {
   "cell_type": "code",
   "execution_count": 89,
   "metadata": {},
   "outputs": [
    {
     "name": "stdout",
     "output_type": "stream",
     "text": [
      "row [5.1 3.5 1.4 0.2]:\n",
      "mean: 2.55078125\n",
      "median: 2.44921875\n",
      "standard deviation: 1.888671875\n"
     ]
    }
   ],
   "source": [
    "row1 = arr[0]\n",
    "arr_mean1 = np.mean(row1)\n",
    "arr_median1 = np.median(row1) # функція впорядковує значення автоматично, тож перед її застосуванням немає необхідності це робити\n",
    "arr_std_1 = np.std(row1)\n",
    "\n",
    "print(f\"row {row1}:\\nmean: {arr_mean1}\\nmedian: {arr_median1}\\nstandard deviation: {arr_std_1}\")\n"
   ]
  },
  {
   "cell_type": "markdown",
   "metadata": {},
   "source": [
    "Вставити 20 значень np.nan на випадкові позиції в масиві (при використанні звичайного рандому можуть накластись позиції, тому знайти рішення, яке гарантує 20 унікальних позицій)\n"
   ]
  },
  {
   "cell_type": "code",
   "execution_count": 146,
   "metadata": {},
   "outputs": [
    {
     "name": "stdout",
     "output_type": "stream",
     "text": [
      "nan_count: 20\n"
     ]
    }
   ],
   "source": [
    "arr = get_arr()\n",
    "count_nans = 20\n",
    "mode = input(\"Оберіть варіант: \")  # щоб не гратись з коментуванням коду\n",
    "if mode == \"1\":\n",
    "    #Варіант 1 - nan в строках НЕ повторюється\n",
    "    random_rows = np.random.choice(arr.shape[0], count_nans, replace=False) # Обираємо 20 випадкових строк, строки повторюватись не будуть - це гарантує унікальність\n",
    "    random_colls = np.random.choice(arr.shape[1], count_nans, replace=True) # обираємо 20 випадкових колонок, номери колонок повторюються так як arr.shape[1] < count_nans\n",
    "    indexes = np.column_stack((random_rows, random_colls)) # створюємо масив 20, 2 з наших векторів (це буде масив координат)\n",
    "    arr[(indexes[:, 0], indexes[:, 1])] = np.nan # присвоїли  значення кожній координаті в масиві\n",
    "    # arr[indexes] = np.nan # присвоїли  значення кожній координаті в масиві\n",
    "else:\n",
    "    #Варіант 2 - nan може повторюватись в строках\n",
    "    colls = arr.shape[1]\n",
    "    arr = arr.flatten()  # перетворили матрицю у вектор\n",
    "    indexes = np.random.choice(arr.size, count_nans, replace=False) # обрали будь-який елемент \n",
    "    arr[indexes] = np.nan # присвоїли обраним елементам значення\n",
    "    arr = to_2d(arr, colls) # зібрали вектор обратно в матрицю\n",
    "\n",
    "total_nans = np.isnan(arr) # створили булеву маску\n",
    "print(f\"nan_count: {total_nans.sum()}\") # порахували суму всіх елементів, завдяки тому що True - це булева одиниця\n"
   ]
  },
  {
   "cell_type": "markdown",
   "metadata": {},
   "source": [
    "Знайти позиції вставлених значень np.nan в 1-й колонці"
   ]
  },
  {
   "cell_type": "code",
   "execution_count": 162,
   "metadata": {},
   "outputs": [
    {
     "name": "stdout",
     "output_type": "stream",
     "text": [
      "[5.1 4.9 4.7 nan 5.  5.4 4.6 5.  4.4 4.9 5.4 4.8 4.8 4.3 5.8 5.7 5.4 5.1\n",
      " 5.7 5.1 5.4 5.1 4.6 5.1 4.8 5.  5.  5.2 5.2 4.7 4.8 5.4 5.2 5.5 4.9 5.\n",
      " 5.5 4.9 4.4 5.1 5.  4.5 4.4 5.  5.1 4.8 5.1 4.6 5.3 5.  7.  6.4 6.9 5.5\n",
      " 6.5 5.7 6.3 4.9 6.6 5.2 5.  5.9 6.  6.1 5.6 6.7 5.6 5.8 6.2 5.6 5.9 6.1\n",
      " 6.3 6.1 6.4 6.6 6.8 6.7 6.  5.7 5.5 5.5 5.8 6.  5.4 6.  6.7 nan 5.6 5.5\n",
      " 5.5 6.1 5.8 5.  5.6 5.7 5.7 6.2 5.1 5.7 6.3 5.8 7.1 6.3 6.5 7.6 4.9 7.3\n",
      " 6.7 7.2 6.5 6.4 6.8 5.7 5.8 6.4 6.5 7.7 7.7 6.  6.9 5.6 7.7 nan 6.7 7.2\n",
      " 6.2 6.1 6.4 7.2 7.4 7.9 6.4 nan 6.1 7.7 6.3 6.4 nan 6.9 6.7 6.9 5.8 6.8\n",
      " 6.7 6.7 6.3 6.5 6.2 5.9]\n",
      "[  3  87 123 133 138]\n"
     ]
    }
   ],
   "source": [
    "column1 = arr[:, 0] # отримали першу колонку\n",
    "print(column1)\n",
    "nan_pos = np.where(np.isnan(column1))[0] # знайшли всі nan в колонці. [0] щоб отримати вектор, бо np.where() повертає кортеж\n",
    "print(nan_pos)"
   ]
  },
  {
   "cell_type": "markdown",
   "metadata": {},
   "source": [
    "Відфільтрувати массив за умовою: значення в 3-й колонці > 1.5 та значения в 1-й колонці < 5.0 (зберегти у іншу змінну)"
   ]
  },
  {
   "cell_type": "code",
   "execution_count": 171,
   "metadata": {},
   "outputs": [
    {
     "name": "stdout",
     "output_type": "stream",
     "text": [
      "[[4.8 3.4 1.9 0.2]\n",
      " [4.7 3.2 1.6 0.2]\n",
      " [4.8 3.1 1.6 0.2]\n",
      " [4.9 2.5 4.5 1.7]]\n"
     ]
    }
   ],
   "source": [
    "# я так зрозумів, що обидві умови мають виконуватись одночасно\n",
    "column3 = arr[:, 2]\n",
    "filtered_col1_3 = arr[(column3 > 1.5) & (column1 < 5.0)] \n",
    "print(filtered_col1_3)\n",
    "\n"
   ]
  },
  {
   "cell_type": "markdown",
   "metadata": {},
   "source": [
    "Замінити всі значення np.nan на 0"
   ]
  },
  {
   "cell_type": "code",
   "execution_count": 175,
   "metadata": {},
   "outputs": [
    {
     "name": "stdout",
     "output_type": "stream",
     "text": [
      "nan count:  0\n"
     ]
    }
   ],
   "source": [
    "arr = np.nan_to_num(arr, nan=0)\n",
    "print(\"nan count: \", np.isnan(arr).sum())"
   ]
  },
  {
   "cell_type": "markdown",
   "metadata": {},
   "source": [
    "Порахувати всі унікальні значення в массиві та вивести їх разом із кількістю"
   ]
  },
  {
   "cell_type": "code",
   "execution_count": 186,
   "metadata": {},
   "outputs": [
    {
     "name": "stdout",
     "output_type": "stream",
     "text": [
      "[[ 0.         20.        ]\n",
      " [ 0.09997559  5.        ]\n",
      " [ 0.19995117 28.        ]\n",
      " [ 0.30004883  6.        ]\n",
      " [ 0.39990234  7.        ]\n",
      " [ 0.5         1.        ]\n",
      " [ 0.60009766  1.        ]\n",
      " [ 1.          8.        ]\n",
      " [ 1.09960938  4.        ]\n",
      " [ 1.20019531  7.        ]\n",
      " [ 1.29980469 18.        ]\n",
      " [ 1.40039062 19.        ]\n",
      " [ 1.5        26.        ]\n",
      " [ 1.59960938 10.        ]\n",
      " [ 1.70019531  6.        ]\n",
      " [ 1.79980469 12.        ]\n",
      " [ 1.90039062  7.        ]\n",
      " [ 2.          7.        ]\n",
      " [ 2.09960938  6.        ]\n",
      " [ 2.19921875  6.        ]\n",
      " [ 2.30078125 12.        ]\n",
      " [ 2.40039062  6.        ]\n",
      " [ 2.5        11.        ]\n",
      " [ 2.59960938  4.        ]\n",
      " [ 2.69921875  8.        ]\n",
      " [ 2.80078125 13.        ]\n",
      " [ 2.90039062  9.        ]\n",
      " [ 3.         26.        ]\n",
      " [ 3.09960938 12.        ]\n",
      " [ 3.19921875 12.        ]\n",
      " [ 3.30078125  7.        ]\n",
      " [ 3.40039062 12.        ]\n",
      " [ 3.5         8.        ]\n",
      " [ 3.59960938  4.        ]\n",
      " [ 3.69921875  4.        ]\n",
      " [ 3.80078125  7.        ]\n",
      " [ 3.90039062  5.        ]\n",
      " [ 4.          6.        ]\n",
      " [ 4.1015625   4.        ]\n",
      " [ 4.19921875  5.        ]\n",
      " [ 4.30078125  3.        ]\n",
      " [ 4.3984375   8.        ]\n",
      " [ 4.5         9.        ]\n",
      " [ 4.6015625   6.        ]\n",
      " [ 4.69921875  7.        ]\n",
      " [ 4.80078125  9.        ]\n",
      " [ 4.8984375  11.        ]\n",
      " [ 5.         14.        ]\n",
      " [ 5.1015625  16.        ]\n",
      " [ 5.19921875  6.        ]\n",
      " [ 5.30078125  3.        ]\n",
      " [ 5.3984375   8.        ]\n",
      " [ 5.5        10.        ]\n",
      " [ 5.6015625  11.        ]\n",
      " [ 5.69921875 11.        ]\n",
      " [ 5.80078125 10.        ]\n",
      " [ 5.8984375   5.        ]\n",
      " [ 6.          7.        ]\n",
      " [ 6.1015625   9.        ]\n",
      " [ 6.19921875  4.        ]\n",
      " [ 6.30078125  7.        ]\n",
      " [ 6.3984375   8.        ]\n",
      " [ 6.5         5.        ]\n",
      " [ 6.6015625   3.        ]\n",
      " [ 6.69921875 10.        ]\n",
      " [ 6.80078125  3.        ]\n",
      " [ 6.8984375   5.        ]\n",
      " [ 7.          1.        ]\n",
      " [ 7.1015625   1.        ]\n",
      " [ 7.19921875  3.        ]\n",
      " [ 7.30078125  1.        ]\n",
      " [ 7.3984375   1.        ]\n",
      " [ 7.6015625   1.        ]\n",
      " [ 7.69921875  4.        ]\n",
      " [ 7.8984375   1.        ]]\n"
     ]
    }
   ],
   "source": [
    "val, count = np.unique(arr, return_counts=True) # можна було б скопіювати з лекції, але де в цьому романтика...\n",
    "unique_vals = np.column_stack((val, count))\n",
    "print(unique_vals)"
   ]
  },
  {
   "cell_type": "markdown",
   "metadata": {},
   "source": []
  },
  {
   "cell_type": "markdown",
   "metadata": {},
   "source": [
    "Розбити масив по вертикалі на 2 рівні частини (не використовувати абсолютні числа, мають бути два массиви по 4 колонки)"
   ]
  },
  {
   "cell_type": "code",
   "execution_count": 204,
   "metadata": {},
   "outputs": [
    {
     "name": "stdout",
     "output_type": "stream",
     "text": [
      "['arr1: (75, 4)', 'arr2: (75, 4)']\n"
     ]
    }
   ],
   "source": [
    "parts = 2\n",
    "splited_arr = np.array_split(arr, parts, axis=0)\n",
    "shapes = [f\"arr{num+1}: {i.shape}\" for num, i in enumerate(splited_arr)] # я чув про for, але це суто для універсальності вивода\n",
    "print(shapes)"
   ]
  },
  {
   "cell_type": "markdown",
   "metadata": {},
   "source": [
    "Відсортувати обидва массиви по 1-й колонці: 1-й за збільшенням, 2-й за зменшенням"
   ]
  },
  {
   "cell_type": "code",
   "execution_count": 238,
   "metadata": {},
   "outputs": [],
   "source": [
    "arr1, arr2, *_ = splited_arr\n",
    "\n",
    "indxs1 = np.argsort(arr1[:, 0]) # отримуємо відсортовані індекси елементів першої колонки \n",
    "arr1 = arr1[indxs1] # сортуємо масив зі збереженням зві'язку даних в рядках\n",
    "\n",
    "indxs2 = np.argsort(arr2[:, 0])[::-1] # індекси у зворотньому порядку\n",
    "arr2 = arr2[indxs2]# сортуємо масив зі збереженням зві'язку даних в рядках\n",
    "\n",
    "# print(arr1)\n",
    "# print(arr2)\n"
   ]
  },
  {
   "cell_type": "markdown",
   "metadata": {},
   "source": [
    "Зібрати обидва массиви в одне ціле"
   ]
  },
  {
   "cell_type": "code",
   "execution_count": 240,
   "metadata": {},
   "outputs": [],
   "source": [
    "arr = np.concatenate((arr1, arr2), axis=0)\n",
    "# print(arr1_2)"
   ]
  },
  {
   "cell_type": "markdown",
   "metadata": {},
   "source": [
    "Знайти найбільш часто повторюване значення в массиві"
   ]
  },
  {
   "cell_type": "code",
   "execution_count": 252,
   "metadata": {},
   "outputs": [
    {
     "name": "stdout",
     "output_type": "stream",
     "text": [
      "val 0.199951171875 is counted 2 times in the array\n"
     ]
    }
   ],
   "source": [
    "most_repeated_index = np.argmax(unique_vals[:, 1]) # отримали індекс строки з максимальним значенням у першій колонці (у справжнього програміста перша дитина - нульова)\n",
    "most_repeated_val = unique_vals[most_repeated_index, 0] # витягнув значення з нульової колонки, яке відповідає потрібному нам рядку\n",
    "print(f\"val {most_repeated_val} is counted {most_repeated_index} times in the array\")\n",
    "# використав unique_vals так як невзираючи на те що я модифікував матрицю - значення та їх кількість в ній не змінились, тільки розташування\n"
   ]
  },
  {
   "cell_type": "markdown",
   "metadata": {},
   "source": [
    "Написати функцію, яка б множила всі значення в колонці, які менше середнього значения в цій колонці, на 2, і ділила інші значення на 4."
   ]
  },
  {
   "cell_type": "code",
   "execution_count": 288,
   "metadata": {},
   "outputs": [],
   "source": [
    "def column_modifier(column:np.array, multiplyer=2, delimiter=4, save_orig:bool=True) -> np.array:\n",
    "    mean = np.mean(column)\n",
    "    if save_orig:  # з умови не ясно чи має зберігатись оригінальна колонка в масиві, тож от\n",
    "        column = column.copy()\n",
    "    column[column < mean] *= multiplyer\n",
    "    column[column >= mean] /= delimiter\n",
    "    return column\n",
    "\n"
   ]
  },
  {
   "cell_type": "markdown",
   "metadata": {},
   "source": [
    "Застосувати отриману функцію до 3-ї колонки"
   ]
  },
  {
   "cell_type": "code",
   "execution_count": 292,
   "metadata": {},
   "outputs": [
    {
     "data": {
      "text/plain": [
       "array([3.   , 2.2  , 2.8  , 2.6  , 2.6  , 2.6  , 2.8  , 2.8  , 2.   ,\n",
       "       2.6  , 3.2  , 2.8  , 2.8  , 0.95 , 3.2  , 0.   , 3.   , 3.   ,\n",
       "       0.   , 3.   , 2.8  , 3.2  , 2.8  , 2.6  , 3.   , 3.2  , 3.2  ,\n",
       "       1.75 , 2.8  , 2.4  , 0.95 , 3.   , 3.2  , 2.8  , 2.8  , 3.   ,\n",
       "       3.   , 3.4  , 0.975, 3.   , 2.8  , 3.   , 3.   , 2.6  , 3.4  ,\n",
       "       3.   , 3.4  , 3.   , 2.6  , 1.   , 2.8  , 1.8  , 1.125, 0.975,\n",
       "       3.4  , 1.125, 3.   , 1.025, 2.4  , 1.2  , 1.05 , 1.   , 1.   ,\n",
       "       1.175, 1.175, 1.125, 1.175, 1.225, 1.075, 1.125, 1.15 , 1.15 ,\n",
       "       1.1  , 1.225, 1.175, 1.6  , 1.675, 1.725, 1.675, 1.525, 1.65 ,\n",
       "       1.525, 1.575, 1.45 , 1.525, 1.5  , 1.475, 1.35 , 1.275, 1.425,\n",
       "       1.475, 1.2  , 1.375, 1.425, 1.4  , 1.45 , 1.175, 1.425, 1.3  ,\n",
       "       1.25 , 1.1  , 1.3  , 1.45 , 1.375, 0.   , 1.325, 1.325, 1.4  ,\n",
       "       1.4  , 1.375, 1.4  , 1.4  , 1.25 , 1.5  , 1.35 , 1.2  , 1.075,\n",
       "       0.   , 1.15 , 1.225, 1.125, 1.25 , 1.275, 1.125, 1.275, 1.   ,\n",
       "       0.975, 1.275, 1.275, 1.275, 1.75 , 1.025, 1.05 , 1.05 , 1.25 ,\n",
       "       1.025, 1.225, 1.05 , 0.95 , 1.1  , 1.   , 0.925, 1.125, 1.5  ,\n",
       "       1.65 , 1.125, 1.275, 1.2  , 1.1  , 1.225], dtype=float16)"
      ]
     },
     "execution_count": 292,
     "metadata": {},
     "output_type": "execute_result"
    }
   ],
   "source": [
    "modified_column = column_modifier(arr[:, 2])\n",
    "modified_column"
   ]
  }
 ],
 "metadata": {
  "kernelspec": {
   "display_name": "venv-ml",
   "language": "python",
   "name": "python3"
  },
  "language_info": {
   "codemirror_mode": {
    "name": "ipython",
    "version": 3
   },
   "file_extension": ".py",
   "mimetype": "text/x-python",
   "name": "python",
   "nbconvert_exporter": "python",
   "pygments_lexer": "ipython3",
   "version": "3.10.4"
  }
 },
 "nbformat": 4,
 "nbformat_minor": 2
}
