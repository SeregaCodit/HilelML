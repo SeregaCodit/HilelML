{
 "cells": [
  {
   "cell_type": "markdown",
   "metadata": {},
   "source": [
    "<center>\n",
    "<img src=\"../../img/ods_stickers.jpg\">\n",
    "## Открытый курс по машинному обучению\n",
    "<center>\n",
    "Автор материала: Юрий Кашницкий, программист-исследователь Mail.Ru Group <br> \n",
    "\n",
    "Материал распространяется на условиях лицензии [Creative Commons CC BY-NC-SA 4.0](https://creativecommons.org/licenses/by-nc-sa/4.0/). Можно использовать в любых целях (редактировать, поправлять и брать за основу), кроме коммерческих, но с обязательным упоминанием автора материала."
   ]
  },
  {
   "cell_type": "markdown",
   "metadata": {},
   "source": [
    "# <center>Домашнє завдання № 1 (демо).<br> Аналіз даних доходів населення UCI Adult</center>"
   ]
  },
  {
   "cell_type": "markdown",
   "metadata": {},
   "source": [
    "**В завданні пропонується за допомогою Pandas дати відповідь на кілька запитань по даним репозиторія UCI [Adult](https://archive.ics.uci.edu/ml/datasets/Adult).**"
   ]
  },
  {
   "cell_type": "markdown",
   "metadata": {},
   "source": [
    "Унікальні значення ознак:\n",
    "- age: continuous.\n",
    "- workclass: Private, Self-emp-not-inc, Self-emp-inc, Federal-gov, Local-gov, State-gov, Without-pay, Never-worked.\n",
    "- fnlwgt: continuous.\n",
    "- education: Bachelors, Some-college, 11th, HS-grad, Prof-school, Assoc-acdm, Assoc-voc, 9th, 7th-8th, 12th, Masters, 1st-4th, 10th, Doctorate, 5th-6th, Preschool.\n",
    "- education-num: continuous.\n",
    "- marital-status: Married-civ-spouse, Divorced, Never-married, Separated, Widowed, Married-spouse-absent, Married-AF-spouse.\n",
    "- occupation: Tech-support, Craft-repair, Other-service, Sales, Exec-managerial, Prof-specialty, Handlers-cleaners, Machine-op-inspct, Adm-clerical, Farming-fishing, Transport-moving, Priv-house-serv, Protective-serv, Armed-Forces.\n",
    "- relationship: Wife, Own-child, Husband, Not-in-family, Other-relative, Unmarried.\n",
    "- race: White, Asian-Pac-Islander, Amer-Indian-Eskimo, Other, Black.\n",
    "- sex: Female, Male.\n",
    "- capital-gain: continuous.\n",
    "- capital-loss: continuous.\n",
    "- hours-per-week: continuous.\n",
    "- native-country: United-States, Cambodia, England, Puerto-Rico, Canada, Germany, Outlying-US(Guam-USVI-etc), India, Japan, Greece, South, China, Cuba, Iran, Honduras, Philippines, Italy, Poland, Jamaica, Vietnam, Mexico, Portugal, Ireland, France, Dominican-Republic, Laos, Ecuador, Taiwan, Haiti, Columbia, Hungary, Guatemala, Nicaragua, Scotland, Thailand, Yugoslavia, El-Salvador, Trinadad&Tobago, Peru, Hong, Holand-Netherlands.   \n",
    "- salary: >50K,<=50K"
   ]
  },
  {
   "cell_type": "code",
   "execution_count": 1,
   "metadata": {},
   "outputs": [],
   "source": [
    "import pandas as pd"
   ]
  },
  {
   "cell_type": "code",
   "execution_count": 2,
   "metadata": {},
   "outputs": [
    {
     "data": {
      "text/html": [
       "<div>\n",
       "<style scoped>\n",
       "    .dataframe tbody tr th:only-of-type {\n",
       "        vertical-align: middle;\n",
       "    }\n",
       "\n",
       "    .dataframe tbody tr th {\n",
       "        vertical-align: top;\n",
       "    }\n",
       "\n",
       "    .dataframe thead th {\n",
       "        text-align: right;\n",
       "    }\n",
       "</style>\n",
       "<table border=\"1\" class=\"dataframe\">\n",
       "  <thead>\n",
       "    <tr style=\"text-align: right;\">\n",
       "      <th></th>\n",
       "      <th>age</th>\n",
       "      <th>workclass</th>\n",
       "      <th>fnlwgt</th>\n",
       "      <th>education</th>\n",
       "      <th>education-num</th>\n",
       "      <th>marital-status</th>\n",
       "      <th>occupation</th>\n",
       "      <th>relationship</th>\n",
       "      <th>race</th>\n",
       "      <th>sex</th>\n",
       "      <th>capital-gain</th>\n",
       "      <th>capital-loss</th>\n",
       "      <th>hours-per-week</th>\n",
       "      <th>native-country</th>\n",
       "      <th>salary</th>\n",
       "    </tr>\n",
       "  </thead>\n",
       "  <tbody>\n",
       "    <tr>\n",
       "      <th>0</th>\n",
       "      <td>39</td>\n",
       "      <td>State-gov</td>\n",
       "      <td>77516</td>\n",
       "      <td>Bachelors</td>\n",
       "      <td>13</td>\n",
       "      <td>Never-married</td>\n",
       "      <td>Adm-clerical</td>\n",
       "      <td>Not-in-family</td>\n",
       "      <td>White</td>\n",
       "      <td>Male</td>\n",
       "      <td>2174</td>\n",
       "      <td>0</td>\n",
       "      <td>40</td>\n",
       "      <td>United-States</td>\n",
       "      <td>&lt;=50K</td>\n",
       "    </tr>\n",
       "    <tr>\n",
       "      <th>1</th>\n",
       "      <td>50</td>\n",
       "      <td>Self-emp-not-inc</td>\n",
       "      <td>83311</td>\n",
       "      <td>Bachelors</td>\n",
       "      <td>13</td>\n",
       "      <td>Married-civ-spouse</td>\n",
       "      <td>Exec-managerial</td>\n",
       "      <td>Husband</td>\n",
       "      <td>White</td>\n",
       "      <td>Male</td>\n",
       "      <td>0</td>\n",
       "      <td>0</td>\n",
       "      <td>13</td>\n",
       "      <td>United-States</td>\n",
       "      <td>&lt;=50K</td>\n",
       "    </tr>\n",
       "    <tr>\n",
       "      <th>2</th>\n",
       "      <td>38</td>\n",
       "      <td>Private</td>\n",
       "      <td>215646</td>\n",
       "      <td>HS-grad</td>\n",
       "      <td>9</td>\n",
       "      <td>Divorced</td>\n",
       "      <td>Handlers-cleaners</td>\n",
       "      <td>Not-in-family</td>\n",
       "      <td>White</td>\n",
       "      <td>Male</td>\n",
       "      <td>0</td>\n",
       "      <td>0</td>\n",
       "      <td>40</td>\n",
       "      <td>United-States</td>\n",
       "      <td>&lt;=50K</td>\n",
       "    </tr>\n",
       "    <tr>\n",
       "      <th>3</th>\n",
       "      <td>53</td>\n",
       "      <td>Private</td>\n",
       "      <td>234721</td>\n",
       "      <td>11th</td>\n",
       "      <td>7</td>\n",
       "      <td>Married-civ-spouse</td>\n",
       "      <td>Handlers-cleaners</td>\n",
       "      <td>Husband</td>\n",
       "      <td>Black</td>\n",
       "      <td>Male</td>\n",
       "      <td>0</td>\n",
       "      <td>0</td>\n",
       "      <td>40</td>\n",
       "      <td>United-States</td>\n",
       "      <td>&lt;=50K</td>\n",
       "    </tr>\n",
       "    <tr>\n",
       "      <th>4</th>\n",
       "      <td>28</td>\n",
       "      <td>Private</td>\n",
       "      <td>338409</td>\n",
       "      <td>Bachelors</td>\n",
       "      <td>13</td>\n",
       "      <td>Married-civ-spouse</td>\n",
       "      <td>Prof-specialty</td>\n",
       "      <td>Wife</td>\n",
       "      <td>Black</td>\n",
       "      <td>Female</td>\n",
       "      <td>0</td>\n",
       "      <td>0</td>\n",
       "      <td>40</td>\n",
       "      <td>Cuba</td>\n",
       "      <td>&lt;=50K</td>\n",
       "    </tr>\n",
       "  </tbody>\n",
       "</table>\n",
       "</div>"
      ],
      "text/plain": [
       "   age         workclass  fnlwgt  education  education-num  \\\n",
       "0   39         State-gov   77516  Bachelors             13   \n",
       "1   50  Self-emp-not-inc   83311  Bachelors             13   \n",
       "2   38           Private  215646    HS-grad              9   \n",
       "3   53           Private  234721       11th              7   \n",
       "4   28           Private  338409  Bachelors             13   \n",
       "\n",
       "       marital-status         occupation   relationship   race     sex  \\\n",
       "0       Never-married       Adm-clerical  Not-in-family  White    Male   \n",
       "1  Married-civ-spouse    Exec-managerial        Husband  White    Male   \n",
       "2            Divorced  Handlers-cleaners  Not-in-family  White    Male   \n",
       "3  Married-civ-spouse  Handlers-cleaners        Husband  Black    Male   \n",
       "4  Married-civ-spouse     Prof-specialty           Wife  Black  Female   \n",
       "\n",
       "   capital-gain  capital-loss  hours-per-week native-country salary  \n",
       "0          2174             0              40  United-States  <=50K  \n",
       "1             0             0              13  United-States  <=50K  \n",
       "2             0             0              40  United-States  <=50K  \n",
       "3             0             0              40  United-States  <=50K  \n",
       "4             0             0              40           Cuba  <=50K  "
      ]
     },
     "execution_count": 2,
     "metadata": {},
     "output_type": "execute_result"
    }
   ],
   "source": [
    "data = pd.read_csv('adult.data.csv')\n",
    "data.head()"
   ]
  },
  {
   "cell_type": "markdown",
   "metadata": {},
   "source": [
    "**1. Скільки чоловіків и жінок (ознака *sex*) представлено в цьому наборі даних?**"
   ]
  },
  {
   "cell_type": "code",
   "execution_count": 77,
   "metadata": {
    "collapsed": true
   },
   "outputs": [
    {
     "name": "stdout",
     "output_type": "stream",
     "text": [
      "Male: 21790\n",
      "Female: 10771\n"
     ]
    }
   ],
   "source": [
    "count = data[\"sex\"].value_counts()\n",
    "# print(count) # можна було б просто серію роздрукувати і не писати код нижче\n",
    "for sex, val in count.items():\n",
    "    print(f\"{sex}: {val}\")"
   ]
  },
  {
   "cell_type": "markdown",
   "metadata": {},
   "source": [
    "**2. Який середній вік (ознака *age*) жінок?**"
   ]
  },
  {
   "cell_type": "code",
   "execution_count": 78,
   "metadata": {
    "collapsed": true
   },
   "outputs": [
    {
     "name": "stdout",
     "output_type": "stream",
     "text": [
      "середній віж жінок в датасеті - 36.86 років\n"
     ]
    }
   ],
   "source": [
    "woman_filtered = data[data[\"sex\"] == \"Female\"]\n",
    "mean_woman_age = float(woman_filtered[\"age\"].mean()) \n",
    "print(f\"середній віж жінок в датасеті - {mean_woman_age:.2f} років\")"
   ]
  },
  {
   "cell_type": "markdown",
   "metadata": {},
   "source": [
    "**3. Яка доля громадян Німеччини (ознака *native-country*)?**"
   ]
  },
  {
   "cell_type": "code",
   "execution_count": 61,
   "metadata": {
    "collapsed": true
   },
   "outputs": [
    {
     "name": "stdout",
     "output_type": "stream",
     "text": [
      "Відсоток громадян Німеччини: 0.42%\n"
     ]
    }
   ],
   "source": [
    "mask = data[\"native-country\"] == \"Germany\"\n",
    "from_germany_prcntg = mask.mean() * 100\n",
    "print(f\"Відсоток громадян Німеччини: {from_germany_prcntg:.2f}%\")"
   ]
  },
  {
   "cell_type": "markdown",
   "metadata": {},
   "source": [
    "**4-5. Які средні значення та средньоквадратичні відхилення віку тих, хто отримує більше 50K на рік (ознака *salary*) і тих, хто отримує менше 50K на рік?**"
   ]
  },
  {
   "cell_type": "code",
   "execution_count": 62,
   "metadata": {
    "collapsed": true
   },
   "outputs": [
    {
     "name": "stdout",
     "output_type": "stream",
     "text": [
      "для людей з ЗП <=50K:\n",
      "\tсередній вік - 36.78\n",
      "\tсередньоквадратичне відхилення віку - 14.02\n",
      "\n",
      "для людей з ЗП >50K:\n",
      "\tсередній вік - 44.25\n",
      "\tсередньоквадратичне відхилення віку - 10.52\n",
      "\n"
     ]
    }
   ],
   "source": [
    "salary_vals = data[\"salary\"].unique() # подивився які взагалі можуть бути значення\n",
    "\n",
    "# раз вже подивився, то не пропадати ж словнику бездарно\n",
    "for val in salary_vals:\n",
    "    sallary_category_age = data[data[\"salary\"] == val][\"age\"]\n",
    "    print(f\"для людей з ЗП {val}:\\n\\tсередній вік - {sallary_category_age.mean():.2f}\\n\\tсередньоквадратичне відхилення віку - {sallary_category_age.std():.2f}\\n\")\n"
   ]
  },
  {
   "cell_type": "markdown",
   "metadata": {},
   "source": [
    "**6. Чи правда, що люди, які отримують більше 50k, мають як мінімум вищу освіту? (ознака *education – Bachelors, Prof-school, Assoc-acdm, Assoc-voc, Masters* или *Doctorate*)**"
   ]
  },
  {
   "cell_type": "code",
   "execution_count": 83,
   "metadata": {
    "collapsed": true
   },
   "outputs": [
    {
     "name": "stdout",
     "output_type": "stream",
     "text": [
      "не правда\n"
     ]
    }
   ],
   "source": [
    "education_list = [\"Bachelors\", 'Prof-school', \"Assoc-acdm\", 'Assoc-voc', \"Masters\", \"Doctorate\"]\n",
    "\n",
    "filtered_by_salary = data[data[\"salary\"] == \">50K\"] # відібрали усіх хто отримує >50к\n",
    "result = all(filtered_by_salary[\"education\"].isin(education_list)) # перевірили чи всі хто має >50k має вищу освіту\n",
    "print(f\"{'правда' if result else 'не правда'}\")"
   ]
  },
  {
   "cell_type": "markdown",
   "metadata": {},
   "source": [
    "**7. Порахуйте статистику віку для кожної раси (ознака *race*) і кожної статі. Використайте *groupby* и *describe*. Знайдіть таким сином максимальний вік чоловіків раси *Amer-Indian-Eskimo*.**"
   ]
  },
  {
   "cell_type": "code",
   "execution_count": 69,
   "metadata": {
    "collapsed": true
   },
   "outputs": [
    {
     "name": "stdout",
     "output_type": "stream",
     "text": [
      "Максимальний вік чоловіків раси Amer-Indian-Eskimo - 82.0\n"
     ]
    }
   ],
   "source": [
    "target_race = \"Amer-Indian-Eskimo\"\n",
    "target_sex = \"Male\"\n",
    "\n",
    "race_sex_df = data.groupby([\"race\", \"sex\"])['age'].describe() # статистика для кожної статі в розрізі кожної раси\n",
    "\n",
    "aie_max_age = race_sex_df.loc[(target_race, target_sex), \"max\"] # отримуємо данні max для  потрібної раси та статі в ній\n",
    "print(f\"Максимальний вік чоловіків раси {target_race} - {aie_max_age}\")\n",
    "\n",
    "\n",
    "# aie_male_df = data[(data[\"race\"] == target_race) & (data[\"sex\"] == target_sex)][\"age\"].max()\n",
    "# Вцілому для кінцевого результату таке рішення здається більш інтуітивно зрозумілим. Але зі збільшенням кількості умов буде збільшуватись складність розуміння коду.\n"
   ]
  },
  {
   "cell_type": "markdown",
   "metadata": {},
   "source": [
    "**8. Серед кого більша доля багатіших (>50K): серед одружених чи не одружених чоловіків (ознака *marital-status*)? За одружених вважаємо тих, у кого *marital-status* починається із *Married* (Married-civ-spouse, Married-spouse-absent или Married-AF-spouse), всі інші - не одружені.**"
   ]
  },
  {
   "cell_type": "code",
   "execution_count": 70,
   "metadata": {
    "collapsed": true
   },
   "outputs": [
    {
     "name": "stdout",
     "output_type": "stream",
     "text": [
      "більша доля багатіших (>50K) серед не одружених чоловіків - 55.95%\n"
     ]
    }
   ],
   "source": [
    "married_trigger = \"Married\"\n",
    "salary_condition = \">50K\"\n",
    "\n",
    "\n",
    "merried_men_df = data[(data[\"sex\"] == \"Male\") & (data[\"marital-status\"].str.startswith(married_trigger))] # отримали дані про чоловіків чий статус починається на Married\n",
    "greater50k_married = (merried_men_df['salary'] == salary_condition).mean() * 100 # отримали відсоток багатих серед одружених\n",
    "\n",
    "if greater50k_married != 50:  # так як ми шукаємо більшу долю, і у нас всього 2 варіанти визначення рівня прибутку - нам не потрібно явно знаходити долю бідних\n",
    "    mach_married = greater50k_married > 50\n",
    "    condition_text = \"\" if mach_married else \"не\"\n",
    "    condition_prcntg = greater50k_married if mach_married else (100 - greater50k_married)\n",
    "    print(f\"більша доля багатіших ({salary_condition}) серед {condition_text} одружених чоловіків - {condition_prcntg:.2f}%\")\n",
    "else:\n",
    "    print(\"одружені та не одружені чоловіки заробляють однаково\")\n"
   ]
  },
  {
   "cell_type": "markdown",
   "metadata": {},
   "source": [
    "**9. Яку максимальну кількість годин в тиждень працює людина (ознака *hours-per-week*)? Скільки людей працюють таку кількість годин і який відсоток серед них багатих?**"
   ]
  },
  {
   "cell_type": "code",
   "execution_count": 71,
   "metadata": {
    "collapsed": true
   },
   "outputs": [
    {
     "name": "stdout",
     "output_type": "stream",
     "text": [
      "людина працює максимум 99 годин\n",
      "таку кількість годин працює 85 людей, серед них багатих 29.41%\n"
     ]
    }
   ],
   "source": [
    "\n",
    "filterd_df = data[[\"hours-per-week\", \"salary\"]] # Питання: чи є позитивною практикою працювати лише з тими фічами, які нас цікавлять в контексті задачі?\n",
    "max_hours_per_week = filterd_df['hours-per-week'].max()  # отримали максимальне значення фічі d df\n",
    "hardworkers_mask = filterd_df[\"hours-per-week\"] == max_hours_per_week # скільки людей працює максимальний час\n",
    "hardworkers_df = filterd_df[(filterd_df[\"hours-per-week\"] == max_hours_per_week)] # отримав df людей, що працюють максимальний час\n",
    "\n",
    "rich_hardworkers_prcntg = (hardworkers_df['salary'] == \">50K\").mean() * 100  #отримали відсоток богатих трудяг\n",
    "print(f\"людина працює максимум {max_hours_per_week} годин\\nтаку кількість годин працює {hardworkers_mask.sum()} людей, серед них багатих {rich_hardworkers_prcntg:.2f}%\")"
   ]
  },
  {
   "cell_type": "markdown",
   "metadata": {},
   "source": [
    "**10. Порахуйте середню тривалість роботи на тиждень (*hours-per-week*) серед багатих і бідних (*salary*) для кожної країни (*native-country*).**"
   ]
  },
  {
   "cell_type": "code",
   "execution_count": 84,
   "metadata": {
    "collapsed": true
   },
   "outputs": [
    {
     "name": "stdout",
     "output_type": "stream",
     "text": [
      "All countries:\n",
      "\trich peope work an average 45.24 hours per week\n",
      "\tpoor people work an average 38.89 hours per week\n",
      "In ?:\n",
      "\trich people work an average 45.55 hours per week\n",
      "\tpoor people work an average 40.16 hours per week\n",
      "In Cambodia:\n",
      "\trich people work an average 40.00 hours per week\n",
      "\tpoor people work an average 41.42 hours per week\n",
      "In Canada:\n",
      "\trich people work an average 45.64 hours per week\n",
      "\tpoor people work an average 37.91 hours per week\n",
      "In China:\n",
      "\trich people work an average 38.90 hours per week\n",
      "\tpoor people work an average 37.38 hours per week\n",
      "In Columbia:\n",
      "\trich people work an average 50.00 hours per week\n",
      "\tpoor people work an average 38.68 hours per week\n",
      "In Cuba:\n",
      "\trich people work an average 42.44 hours per week\n",
      "\tpoor people work an average 37.99 hours per week\n",
      "In Dominican-Republic:\n",
      "\trich people work an average 47.00 hours per week\n",
      "\tpoor people work an average 42.34 hours per week\n",
      "In Ecuador:\n",
      "\trich people work an average 48.75 hours per week\n",
      "\tpoor people work an average 38.04 hours per week\n",
      "In El-Salvador:\n",
      "\trich people work an average 45.00 hours per week\n",
      "\tpoor people work an average 36.03 hours per week\n",
      "In England:\n",
      "\trich people work an average 44.53 hours per week\n",
      "\tpoor people work an average 40.48 hours per week\n",
      "In France:\n",
      "\trich people work an average 50.75 hours per week\n",
      "\tpoor people work an average 41.06 hours per week\n",
      "In Germany:\n",
      "\trich people work an average 44.98 hours per week\n",
      "\tpoor people work an average 39.14 hours per week\n",
      "In Greece:\n",
      "\trich people work an average 50.62 hours per week\n",
      "\tpoor people work an average 41.81 hours per week\n",
      "In Guatemala:\n",
      "\trich people work an average 36.67 hours per week\n",
      "\tpoor people work an average 39.36 hours per week\n",
      "In Haiti:\n",
      "\trich people work an average 42.75 hours per week\n",
      "\tpoor people work an average 36.33 hours per week\n",
      "In Holand-Netherlands:\n",
      "\tpoor people work an average 40.00 hours per week\n",
      "In Honduras:\n",
      "\trich people work an average 60.00 hours per week\n",
      "\tpoor people work an average 34.33 hours per week\n",
      "In Hong:\n",
      "\trich people work an average 45.00 hours per week\n",
      "\tpoor people work an average 39.14 hours per week\n",
      "In Hungary:\n",
      "\trich people work an average 50.00 hours per week\n",
      "\tpoor people work an average 31.30 hours per week\n",
      "In India:\n",
      "\trich people work an average 46.48 hours per week\n",
      "\tpoor people work an average 38.23 hours per week\n",
      "In Iran:\n",
      "\trich people work an average 47.50 hours per week\n",
      "\tpoor people work an average 41.44 hours per week\n",
      "In Ireland:\n",
      "\trich people work an average 48.00 hours per week\n",
      "\tpoor people work an average 40.95 hours per week\n",
      "In Italy:\n",
      "\trich people work an average 45.40 hours per week\n",
      "\tpoor people work an average 39.62 hours per week\n",
      "In Jamaica:\n",
      "\trich people work an average 41.10 hours per week\n",
      "\tpoor people work an average 38.24 hours per week\n",
      "In Japan:\n",
      "\trich people work an average 47.96 hours per week\n",
      "\tpoor people work an average 41.00 hours per week\n",
      "In Laos:\n",
      "\trich people work an average 40.00 hours per week\n",
      "\tpoor people work an average 40.38 hours per week\n",
      "In Mexico:\n",
      "\trich people work an average 46.58 hours per week\n",
      "\tpoor people work an average 40.00 hours per week\n",
      "In Nicaragua:\n",
      "\trich people work an average 37.50 hours per week\n",
      "\tpoor people work an average 36.09 hours per week\n",
      "In Outlying-US(Guam-USVI-etc):\n",
      "\tpoor people work an average 41.86 hours per week\n",
      "In Peru:\n",
      "\trich people work an average 40.00 hours per week\n",
      "\tpoor people work an average 35.07 hours per week\n",
      "In Philippines:\n",
      "\trich people work an average 43.03 hours per week\n",
      "\tpoor people work an average 38.07 hours per week\n",
      "In Poland:\n",
      "\trich people work an average 39.00 hours per week\n",
      "\tpoor people work an average 38.17 hours per week\n",
      "In Portugal:\n",
      "\trich people work an average 41.50 hours per week\n",
      "\tpoor people work an average 41.94 hours per week\n",
      "In Puerto-Rico:\n",
      "\trich people work an average 39.42 hours per week\n",
      "\tpoor people work an average 38.47 hours per week\n",
      "In Scotland:\n",
      "\trich people work an average 46.67 hours per week\n",
      "\tpoor people work an average 39.44 hours per week\n",
      "In South:\n",
      "\trich people work an average 51.44 hours per week\n",
      "\tpoor people work an average 40.16 hours per week\n",
      "In Taiwan:\n",
      "\trich people work an average 46.80 hours per week\n",
      "\tpoor people work an average 33.77 hours per week\n",
      "In Thailand:\n",
      "\trich people work an average 58.33 hours per week\n",
      "\tpoor people work an average 42.87 hours per week\n",
      "In Trinadad&Tobago:\n",
      "\trich people work an average 40.00 hours per week\n",
      "\tpoor people work an average 37.06 hours per week\n",
      "In United-States:\n",
      "\trich people work an average 45.51 hours per week\n",
      "\tpoor people work an average 38.80 hours per week\n",
      "In Vietnam:\n",
      "\trich people work an average 39.20 hours per week\n",
      "\tpoor people work an average 37.19 hours per week\n",
      "In Yugoslavia:\n",
      "\trich people work an average 49.50 hours per week\n",
      "\tpoor people work an average 41.60 hours per week\n"
     ]
    }
   ],
   "source": [
    "# З написаного тексту я зрозумів, що потрібно навести данні по кожній країні окремо\n",
    "# Але на лекції ти сказав, що хочеш тут побачити дві цифри. Звучить так, що це загальне по всім країнам.\n",
    "# Тож я реалізував обидва вааріанти.\n",
    "\n",
    "stat_df = data.groupby([\"native-country\", \"salary\"])[\"hours-per-week\"].describe()  # data.groupby([1_рівень_вкладеності, 2_рівень_вкладеності, ...][на_що_отримуємо статистику])\n",
    "\n",
    "stat_mean_hours_series = stat_df[\"mean\"] # вибірка середньої тривалості роботи по кожній країні серед бідних та багатих\n",
    "stat_df = stat_df.reset_index() # groupby перетворює фічі які групують на мультііндекс. \n",
    "\n",
    "total_rich_hours_mean = stat_df[stat_df[\"salary\"] == \">50K\"][\"mean\"].mean() \n",
    "total_poor_hours_mean = stat_df[stat_df[\"salary\"] == \"<=50K\"][\"mean\"].mean()\n",
    "print(f\"All countries:\\n\\trich peope work an average {total_rich_hours_mean:.2f} hours per week\\n\\tpoor people work an average {total_poor_hours_mean:.2f} hours per week\")\n",
    "\n",
    "for country in stat_df['native-country'].unique():  # можна було щоб не ресетити індекси у stat_df, вибрати unique з data, але тоді якщо data десь зміниться - все зламається\n",
    "    rich_hours = stat_mean_hours_series.get((country, '>50K'), False)\n",
    "    poor_hours = stat_mean_hours_series.get((country, '<=50K'), False)\n",
    "    # в датасеті є одна країна де немає багатих людей, тож для обробки цього випадку створюємо підрядки, щоб уникнути помилки, або нелогічного виводу\n",
    "    rich_text = \"\" if not rich_hours else f\"rich people work an average {rich_hours:.2f} hours per week\\n\\t\"\n",
    "    poor_text = \"\" if not poor_hours else f\"poor people work an average {poor_hours:.2f} hours per week\"\n",
    "    print(f\"In {country}:\\n\\t{rich_text}{poor_text}\")\n"
   ]
  }
 ],
 "metadata": {
  "anaconda-cloud": {},
  "kernelspec": {
   "display_name": "Python 3",
   "language": "python",
   "name": "python3"
  },
  "language_info": {
   "codemirror_mode": {
    "name": "ipython",
    "version": 3
   },
   "file_extension": ".py",
   "mimetype": "text/x-python",
   "name": "python",
   "nbconvert_exporter": "python",
   "pygments_lexer": "ipython3",
   "version": "3.10.4"
  }
 },
 "nbformat": 4,
 "nbformat_minor": 1
}
